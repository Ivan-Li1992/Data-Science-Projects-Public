{
 "cells": [
  {
   "cell_type": "markdown",
   "metadata": {},
   "source": [
    "**Portfolio: Zillow’s Home Value Prediction**\n",
    "\n",
    "This portfolio project includes data cleanning, feature engineering, and modelling on the kaggle's Zillow’s Home Value Prediction competition data,  which contains real estate transactions information for three counties (Los Angeles, Orange and Ventura, California) in 2016. The dataset can be found here https://www.kaggle.com/c/zillow-prize-1/data.\n",
    "\n",
    "Goal: To predict the the difference between the actual price and the estimate of the price by Zillow(Zestimate).\n",
    "\n",
    "Results: Fine tuned XGBoost Model which reduced cross validation MAE to 0.068110.\n",
    "\n",
    "Future Work: \n",
    "1. Feature Engineering more time series features\n",
    "2. Employ more types of models such as decision tree to imrpove explanality\n",
    "3. Identify listings with high estimate error by Zillow and see if there is any pattern to be captured. \n",
    "4. Integrate with other openly available datasets to enrich information. For example, to add average neibourhood income\n",
    "\n",
    "\n"
   ]
  },
  {
   "cell_type": "code",
   "execution_count": 1,
   "metadata": {},
   "outputs": [
    {
     "name": "stderr",
     "output_type": "stream",
     "text": [
      "/Users/ivan/opt/anaconda3/lib/python3.7/site-packages/IPython/core/interactiveshell.py:3063: DtypeWarning: Columns (22,32,34,49,55) have mixed types.Specify dtype option on import or set low_memory=False.\n",
      "  interactivity=interactivity, compiler=compiler, result=result)\n"
     ]
    }
   ],
   "source": [
    "# Read in Data\n",
    "\n",
    "import numpy as np\n",
    "import pandas as pd\n",
    "zillow2016_data = pd.read_csv(\"/Users/ivan/Downloads/properties_2016.csv\")\n",
    "\n",
    "zillow2016_train_data = pd.read_csv(\"/Users/ivan/Downloads/train_2016_v2.csv\")\n",
    "\n",
    "Merged_2016 = pd.merge(zillow2016_train_data,\n",
    "                 zillow2016_data,\n",
    "                 on='parcelid', \n",
    "                 how='left')\n"
   ]
  },
  {
   "cell_type": "code",
   "execution_count": 8,
   "metadata": {},
   "outputs": [
    {
     "name": "stderr",
     "output_type": "stream",
     "text": [
      "/Users/ivan/opt/anaconda3/lib/python3.7/site-packages/ipykernel_launcher.py:24: SettingWithCopyWarning: \n",
      "A value is trying to be set on a copy of a slice from a DataFrame\n",
      "\n",
      "See the caveats in the documentation: https://pandas.pydata.org/pandas-docs/stable/user_guide/indexing.html#returning-a-view-versus-a-copy\n"
     ]
    }
   ],
   "source": [
    "# Data Cleaning and Feature Engineering\n",
    "\n",
    "# -Feature Encoding\n",
    "Merged_2016.loc[Merged_2016['hashottuborspa'] == True, 'hashottuborspa'] = 1\n",
    "Merged_2016.loc[Merged_2016['hashottuborspa'].isnull(), 'hashottuborspa'] = 0\n",
    "\n",
    "Merged_2016.loc[Merged_2016['taxdelinquencyflag'] == 'Y', 'taxdelinquencyflag'] = 1\n",
    "Merged_2016.loc[Merged_2016['taxdelinquencyflag'].isnull(), 'taxdelinquencyflag'] = 0\n",
    "\n",
    "Merged_2016['fireplaceflag'] = 0\n",
    "Merged_2016.loc[~(Merged_2016['fireplacecnt'].isnull()), 'fireplaceflag'] = 1\n",
    "\n",
    "Merged_2016['poolflag'] = 0\n",
    "Merged_2016.loc[~(Merged_2016['poolcnt'].isnull()), 'poolflag'] = 1\n",
    "\n",
    "Merged_2016.loc[Merged_2016['garagetotalsqft'].isnull(), 'garagetotalsqft'] = 0\n",
    "\n",
    "Merged_2016.loc[Merged_2016['threequarterbathnbr'].isnull(), 'threequarterbathnbr'] = 0\n",
    "Merged_2016.loc[Merged_2016['fullbathcnt'].isnull(), 'fullbathcnt'] = 0\n",
    "\n",
    "# -Group Cities with less 500 transaction volume as Other for dummy encoding \n",
    "counts = Merged_2016['regionidcity'].value_counts()\n",
    "mask = Merged_2016['regionidcity'].isin(counts[counts < 500].index)\n",
    "Merged_2016['regionidcity'][mask] = 'Other'\n",
    "\n",
    "# -Create feature Age from yearbuilt \n",
    "Merged_2016['Age'] = 2016 - Merged_2016['yearbuilt']\n",
    "Merged_2016.loc[Merged_2016['heatingorsystemtypeid'].isnull(), 'heatingorsystemtypeid'] = 2\n",
    "\n",
    "# -Create a list of columns to remove (with high more than 50% of missing values)\n",
    "dt_df = Merged_2016.dtypes.reset_index()\n",
    "dt_df.columns = ['column name', 'column data type']\n",
    "numeric_columns = dt_df.loc[dt_df['column data type'] == 'float64', 'column name'].to_list()\n",
    "non_missing_ratio_df = ((~Merged_2016[numeric_columns].isnull()).sum()/\\\n",
    "                        Merged_2016[numeric_columns].shape[0]).reset_index()\n",
    "\n",
    "non_missing_ratio_df.columns = ['column name', 'non_null_ratio']\n",
    "columns_to_remove = non_missing_ratio_df.loc[non_missing_ratio_df['non_null_ratio'] < 0.5, 'column name'].tolist()\n",
    "\n",
    "# -Convert date string to dae \n",
    "Merged_2016['transactiondate'] = pd.to_datetime(Merged_2016['transactiondate'], format=\"%Y-%m-%d\")\n",
    "\n",
    "# -Create feature Month\n",
    "Merged_2016['month'] = pd.DatetimeIndex(Merged_2016['transactiondate']).month\n"
   ]
  },
  {
   "cell_type": "code",
   "execution_count": 9,
   "metadata": {},
   "outputs": [],
   "source": [
    "# Dummy Encoding\n",
    "def Create_Dummies(df, col_name_list):\n",
    "    for i in col_name_list:\n",
    "        X = pd.get_dummies(df[i],prefix=i, drop_first=True)\n",
    "        df = pd.concat([df, X], axis=1)\n",
    "    return df\n",
    "\n",
    "dummie_columns = ['regionidcounty', 'propertylandusetypeid','heatingorsystemtypeid', 'regionidcity', 'month']\n",
    "\n",
    "\n",
    "Merged_2016 = Create_Dummies(Merged_2016, dummie_columns)\n",
    "Merged_2016.drop(dummie_columns, axis=1, inplace=True) "
   ]
  },
  {
   "cell_type": "code",
   "execution_count": 10,
   "metadata": {
    "scrolled": false
   },
   "outputs": [
    {
     "name": "stderr",
     "output_type": "stream",
     "text": [
      "/Users/ivan/opt/anaconda3/lib/python3.7/site-packages/pandas/core/indexing.py:965: SettingWithCopyWarning: \n",
      "A value is trying to be set on a copy of a slice from a DataFrame.\n",
      "Try using .loc[row_indexer,col_indexer] = value instead\n",
      "\n",
      "See the caveats in the documentation: https://pandas.pydata.org/pandas-docs/stable/user_guide/indexing.html#returning-a-view-versus-a-copy\n",
      "  self.obj[item] = s\n",
      "/Users/ivan/opt/anaconda3/lib/python3.7/site-packages/pandas/core/indexing.py:965: SettingWithCopyWarning: \n",
      "A value is trying to be set on a copy of a slice from a DataFrame.\n",
      "Try using .loc[row_indexer,col_indexer] = value instead\n",
      "\n",
      "See the caveats in the documentation: https://pandas.pydata.org/pandas-docs/stable/user_guide/indexing.html#returning-a-view-versus-a-copy\n",
      "  self.obj[item] = s\n"
     ]
    }
   ],
   "source": [
    "# Standarlizing Independent variables\n",
    "X = Merged_2016.drop(['logerror'], axis=1) \n",
    "y = Merged_2016['logerror']\n",
    "\n",
    "# -Split data into train and test sets\n",
    "from sklearn.model_selection import train_test_split\n",
    "X_train, X_test, y_train, y_test= train_test_split(X, y, test_size=0.2,\n",
    "random_state=123)\n",
    "\n",
    "\n",
    "# -Imputating missing values\n",
    "\n",
    "from fancyimpute import IterativeImputer\n",
    "                                                   \n",
    "MICE_imputer = IterativeImputer()\n",
    "\n",
    "X_train_inpute = X_train[['landtaxvaluedollarcnt', 'taxvaluedollarcnt', 'taxamount', \n",
    "'structuretaxvaluedollarcnt', 'lotsizesquarefeet', 'calculatedfinishedsquarefeet', 'Age']]\n",
    "X_train.loc[:, ['landtaxvaluedollarcnt', 'taxvaluedollarcnt', 'taxamount', \n",
    "'structuretaxvaluedollarcnt', 'lotsizesquarefeet', 'calculatedfinishedsquarefeet', 'Age']] = \\\n",
    "MICE_imputer.fit_transform(X_train_inpute)\n",
    "\n",
    "X_test_inpute = X_test[['landtaxvaluedollarcnt', 'taxvaluedollarcnt', 'taxamount', \n",
    "'structuretaxvaluedollarcnt', 'lotsizesquarefeet', 'calculatedfinishedsquarefeet', 'Age']]\n",
    "X_test.loc[:, ['landtaxvaluedollarcnt', 'taxvaluedollarcnt', 'taxamount', \n",
    "'structuretaxvaluedollarcnt', 'lotsizesquarefeet', 'calculatedfinishedsquarefeet', 'Age']] = \\\n",
    "MICE_imputer.fit_transform(X_test_inpute)\n"
   ]
  },
  {
   "cell_type": "code",
   "execution_count": 11,
   "metadata": {},
   "outputs": [
    {
     "name": "stderr",
     "output_type": "stream",
     "text": [
      "/Users/ivan/opt/anaconda3/lib/python3.7/site-packages/pandas/core/frame.py:3997: SettingWithCopyWarning: \n",
      "A value is trying to be set on a copy of a slice from a DataFrame\n",
      "\n",
      "See the caveats in the documentation: https://pandas.pydata.org/pandas-docs/stable/user_guide/indexing.html#returning-a-view-versus-a-copy\n",
      "  errors=errors,\n"
     ]
    }
   ],
   "source": [
    "# Drop Column not to use for modelling\n",
    "X_train.drop(columns_to_remove, axis=1, inplace=True) \n",
    "X_train.drop(['transactiondate', 'propertycountylandusecode', 'propertyzoningdesc', 'parcelid',\n",
    "                       'buildingqualitytypeid', 'yearbuilt', 'fips', 'censustractandblock', 'unitcnt', \n",
    "                        'roomcnt', 'regionidzip', 'rawcensustractandblock', \n",
    "                        'latitude', 'longitude', 'calculatedbathnbr', 'parcelid', \n",
    "                        'finishedsquarefeet12','bathroomcnt'], axis=1, inplace=True) \n",
    "\n",
    "X_test.drop(columns_to_remove, axis=1, inplace=True) \n",
    "X_test.drop(['transactiondate', 'propertycountylandusecode', 'propertyzoningdesc', 'parcelid',\n",
    "                       'buildingqualitytypeid', 'yearbuilt', 'fips', 'censustractandblock', 'unitcnt', \n",
    "                        'roomcnt', 'regionidzip', 'rawcensustractandblock', \n",
    "                        'latitude', 'longitude', 'calculatedbathnbr', 'parcelid', \n",
    "                        'finishedsquarefeet12','bathroomcnt'], axis=1, inplace=True) \n",
    "\n",
    "# Normalize dependent variables\n",
    "from sklearn.preprocessing import StandardScaler\n",
    "\n",
    "def feature_scaling(X):\n",
    "    '''Feature scaled data based on standardization'''\n",
    "    sc = StandardScaler()\n",
    "    X_std = sc.fit_transform(X)\n",
    "    return pd.DataFrame(X_std, index=X.index, columns=X.columns)\n",
    "X_train = feature_scaling(X_train)\n",
    "X_test = feature_scaling(X_test)"
   ]
  },
  {
   "cell_type": "code",
   "execution_count": 21,
   "metadata": {},
   "outputs": [
    {
     "name": "stdout",
     "output_type": "stream",
     "text": [
      "Fitting 4 folds for each of 12 candidates, totalling 48 fits\n"
     ]
    },
    {
     "name": "stderr",
     "output_type": "stream",
     "text": [
      "[Parallel(n_jobs=1)]: Using backend SequentialBackend with 1 concurrent workers.\n",
      "[Parallel(n_jobs=1)]: Done  48 out of  48 | elapsed: 30.5min finished\n"
     ]
    },
    {
     "name": "stdout",
     "output_type": "stream",
     "text": [
      "Best parameters found:  {'learning_rate': 0.1, 'n_estimators': 200, 'subsample': 0.9}\n",
      "Lowest RMSE found:  0.16321224797366632\n"
     ]
    }
   ],
   "source": [
    "# Perform Grid Search on XGboost model parameters\n",
    "import pandas as pd\n",
    "import xgboost as xgb\n",
    "import numpy as np\n",
    "from sklearn.model_selection import GridSearchCV\n",
    "\n",
    "housing_dmatrix = xgb.DMatrix(data=X_train,label=y_train)\n",
    "gbm_param_grid = {'learning_rate': [0.01,0.1,0.5,0.9],\n",
    "'n_estimators': [200],\n",
    "'subsample': [0.3, 0.5, 0.9]}\n",
    "gbm = xgb.XGBRegressor() \n",
    "grid_mse = GridSearchCV(estimator=gbm,param_grid=gbm_param_grid,\n",
    "scoring='neg_mean_squared_error', cv=4, verbose=1) \n",
    "grid_mse.fit(X_train, y_train)\n",
    "print(\"Best parameters found: \",grid_mse.best_params_)\n",
    "print(\"Lowest RMSE found: \", np.sqrt(np.abs(grid_mse.best_score_)))"
   ]
  },
  {
   "cell_type": "code",
   "execution_count": 22,
   "metadata": {},
   "outputs": [
    {
     "name": "stdout",
     "output_type": "stream",
     "text": [
      "Fitting 4 folds for each of 60 candidates, totalling 240 fits\n"
     ]
    },
    {
     "name": "stderr",
     "output_type": "stream",
     "text": [
      "[Parallel(n_jobs=1)]: Using backend SequentialBackend with 1 concurrent workers.\n",
      "[Parallel(n_jobs=1)]: Done 240 out of 240 | elapsed: 55.8min finished\n"
     ]
    },
    {
     "name": "stdout",
     "output_type": "stream",
     "text": [
      "Best parameters found:  {'subsample': 1.0, 'n_estimators': 200, 'max_depth': 2, 'learning_rate': 0.15000000000000002, 'colsample_bytree': 0.25}\n",
      "Lowest RMSE found:  0.26183613734531247\n"
     ]
    }
   ],
   "source": [
    "# Perform Randomized Search on XGboost model parameters\n",
    "import pandas as pd\n",
    "import xgboost as xgb\n",
    "import numpy as np\n",
    "from sklearn.model_selection import RandomizedSearchCV\n",
    "\n",
    "\n",
    "housing_dmatrix = xgb.DMatrix(data=X_train,label=y_train)\n",
    "gbm_param_grid = {'learning_rate': np.arange(0.05,1.05,.05),\n",
    "'n_estimators': [200],\n",
    "'colsample_bytree':[0.25, 0.5, 0.75],\n",
    "'subsample': np.arange(0.05,1.05,.05),\n",
    "'max_depth':[2, 5, 8]}\n",
    "gbm = xgb.XGBRegressor()\n",
    "randomized_mse = RandomizedSearchCV(estimator=gbm, param_distributions=gbm_param_grid,\n",
    "n_iter=60, scoring='neg_mean_absolute_error', cv=4, verbose=1)\n",
    "randomized_mse.fit(X_train, y_train)\n",
    "print(\"Best parameters found: \",randomized_mse.best_params_)\n",
    "#print(\"Lowest mae found: \", randomized_mse.best_score_)\n",
    "print(\"Lowest RMSE found: \", np.sqrt(np.abs(randomized_mse.best_score_)))"
   ]
  },
  {
   "cell_type": "code",
   "execution_count": 24,
   "metadata": {},
   "outputs": [
    {
     "name": "stdout",
     "output_type": "stream",
     "text": [
      "Best mae as a function of l1:\n",
      "   l1       mae\n",
      "0   2  0.068660\n",
      "1   5  0.068456\n",
      "2   8  0.068383\n"
     ]
    }
   ],
   "source": [
    "# Tune regularization term L1 for XGBoost model\n",
    "\n",
    "import xgboost as xgb\n",
    "from sklearn.metrics import mean_squared_error\n",
    "from sklearn.model_selection import train_test_split\n",
    "\n",
    "data_dmatrix = xgb.DMatrix(data=X_train,label=y_train)\n",
    "\n",
    "params={\"objective\":\"reg:squarederror\",'colsample_bytree': 0.5, 'subsample':0.9,\n",
    "'learning_rate': 0.05,\"max_depth\":5}\n",
    "\n",
    "l1_params = [2,5,8]\n",
    "mae_l1=[]\n",
    "for reg in l1_params:\n",
    "    params[\"alpha\"] = reg\n",
    "    cv_results = xgb.cv(dtrain=data_dmatrix, params=params,nfold=4,\n",
    "                        num_boost_round=200,metrics=\"mae\",as_pandas=True,seed=123)\n",
    "    \n",
    "    mae_l1.append(cv_results[\"test-mae-mean\"].tail(1).values[0])\n",
    "print(\"Best mae as a function of l1:\")\n",
    "print(pd.DataFrame(list(zip(l1_params,mae_l1)), columns=[\"l1\",\"mae\"]))"
   ]
  },
  {
   "cell_type": "code",
   "execution_count": 25,
   "metadata": {},
   "outputs": [
    {
     "name": "stdout",
     "output_type": "stream",
     "text": [
      "Tuned mae: 0.068186\n"
     ]
    }
   ],
   "source": [
    "#Final Model Cross-Validation Performance\n",
    "import pandas as pd\n",
    "import xgboost as xgb\n",
    "import numpy as np\n",
    "\n",
    "housing_dmatrix = xgb.DMatrix(data=X_train,label=y_train)\n",
    "tuned_params = {\"objective\":\"reg:squarederror\",'colsample_bytree': 0.5, 'subsample':0.95,\n",
    "'learning_rate': 0.05, 'max_depth': 2, 'alpha':8}\n",
    "tuned_cv_results_rmse = xgb.cv(dtrain=housing_dmatrix,\n",
    "params=tuned_params, nfold=4, num_boost_round=200, metrics=\"mae\",\n",
    "as_pandas=True, seed=123)\n",
    "print(\"Tuned mae: %f\" %((tuned_cv_results_rmse[\"test-mae-mean\"]).tail(1)))\n"
   ]
  },
  {
   "cell_type": "code",
   "execution_count": 26,
   "metadata": {},
   "outputs": [
    {
     "data": {
      "image/png": "[encoded data removed]",
      "text/plain": [
       "<Figure size 720x720 with 1 Axes>"
      ]
     },
     "metadata": {},
     "output_type": "display_data"
    }
   ],
   "source": [
    "#Plot Feature Importance\n",
    "import matplotlib.pyplot as plt\n",
    "data_dmatrix = xgb.DMatrix(data=X_train,label=y_train)\n",
    "params = {'objective':'reg:squarederror', 'colsample_bytree': 0.5, 'subsample':0.9,\n",
    "'learning_rate': 0.05, \"max_depth\":2}\n",
    "xg_reg = xgb.train(params=params, dtrain=data_dmatrix, num_boost_round=200)\n",
    "ax = xgb.plot_importance(xg_reg)\n",
    "fig = ax.figure\n",
    "fig.set_size_inches(10, 10)\n",
    "plt.show()\n"
   ]
  },
  {
   "cell_type": "code",
   "execution_count": 27,
   "metadata": {},
   "outputs": [
    {
     "name": "stdout",
     "output_type": "stream",
     "text": [
      "[0]\tvalidation_0-mae:0.47300\tvalidation_1-mae:0.47241\n",
      "[1]\tvalidation_0-mae:0.45025\tvalidation_1-mae:0.44964\n",
      "[2]\tvalidation_0-mae:0.42867\tvalidation_1-mae:0.42805\n",
      "[3]\tvalidation_0-mae:0.40819\tvalidation_1-mae:0.40759\n",
      "[4]\tvalidation_0-mae:0.38880\tvalidation_1-mae:0.38819\n",
      "[5]\tvalidation_0-mae:0.37040\tvalidation_1-mae:0.36981\n",
      "[6]\tvalidation_0-mae:0.35298\tvalidation_1-mae:0.35240\n",
      "[7]\tvalidation_0-mae:0.33648\tvalidation_1-mae:0.33589\n",
      "[8]\tvalidation_0-mae:0.32086\tvalidation_1-mae:0.32026\n",
      "[9]\tvalidation_0-mae:0.30606\tvalidation_1-mae:0.30544\n",
      "[10]\tvalidation_0-mae:0.29204\tvalidation_1-mae:0.29142\n",
      "[11]\tvalidation_0-mae:0.27879\tvalidation_1-mae:0.27817\n",
      "[12]\tvalidation_0-mae:0.26623\tvalidation_1-mae:0.26561\n",
      "[13]\tvalidation_0-mae:0.25435\tvalidation_1-mae:0.25376\n",
      "[14]\tvalidation_0-mae:0.24311\tvalidation_1-mae:0.24255\n",
      "[15]\tvalidation_0-mae:0.23250\tvalidation_1-mae:0.23194\n",
      "[16]\tvalidation_0-mae:0.22245\tvalidation_1-mae:0.22192\n",
      "[17]\tvalidation_0-mae:0.21295\tvalidation_1-mae:0.21244\n",
      "[18]\tvalidation_0-mae:0.20397\tvalidation_1-mae:0.20349\n",
      "[19]\tvalidation_0-mae:0.19550\tvalidation_1-mae:0.19504\n",
      "[20]\tvalidation_0-mae:0.18750\tvalidation_1-mae:0.18706\n",
      "[21]\tvalidation_0-mae:0.17995\tvalidation_1-mae:0.17952\n",
      "[22]\tvalidation_0-mae:0.17282\tvalidation_1-mae:0.17241\n",
      "[23]\tvalidation_0-mae:0.16610\tvalidation_1-mae:0.16567\n",
      "[24]\tvalidation_0-mae:0.15976\tvalidation_1-mae:0.15935\n",
      "[25]\tvalidation_0-mae:0.15378\tvalidation_1-mae:0.15338\n",
      "[26]\tvalidation_0-mae:0.14813\tvalidation_1-mae:0.14773\n",
      "[27]\tvalidation_0-mae:0.14282\tvalidation_1-mae:0.14240\n",
      "[28]\tvalidation_0-mae:0.13783\tvalidation_1-mae:0.13741\n",
      "[29]\tvalidation_0-mae:0.13312\tvalidation_1-mae:0.13270\n",
      "[30]\tvalidation_0-mae:0.12871\tvalidation_1-mae:0.12827\n",
      "[31]\tvalidation_0-mae:0.12456\tvalidation_1-mae:0.12411\n",
      "[32]\tvalidation_0-mae:0.12065\tvalidation_1-mae:0.12019\n",
      "[33]\tvalidation_0-mae:0.11700\tvalidation_1-mae:0.11650\n",
      "[34]\tvalidation_0-mae:0.11356\tvalidation_1-mae:0.11305\n",
      "[35]\tvalidation_0-mae:0.11034\tvalidation_1-mae:0.10982\n",
      "[36]\tvalidation_0-mae:0.10732\tvalidation_1-mae:0.10678\n",
      "[37]\tvalidation_0-mae:0.10450\tvalidation_1-mae:0.10395\n",
      "[38]\tvalidation_0-mae:0.10187\tvalidation_1-mae:0.10132\n",
      "[39]\tvalidation_0-mae:0.09940\tvalidation_1-mae:0.09885\n",
      "[40]\tvalidation_0-mae:0.09710\tvalidation_1-mae:0.09654\n",
      "[41]\tvalidation_0-mae:0.09495\tvalidation_1-mae:0.09440\n",
      "[42]\tvalidation_0-mae:0.09296\tvalidation_1-mae:0.09239\n",
      "[43]\tvalidation_0-mae:0.09110\tvalidation_1-mae:0.09051\n",
      "[44]\tvalidation_0-mae:0.08936\tvalidation_1-mae:0.08877\n",
      "[45]\tvalidation_0-mae:0.08775\tvalidation_1-mae:0.08715\n",
      "[46]\tvalidation_0-mae:0.08625\tvalidation_1-mae:0.08564\n",
      "[47]\tvalidation_0-mae:0.08486\tvalidation_1-mae:0.08425\n",
      "[48]\tvalidation_0-mae:0.08358\tvalidation_1-mae:0.08296\n",
      "[49]\tvalidation_0-mae:0.08239\tvalidation_1-mae:0.08178\n",
      "[50]\tvalidation_0-mae:0.08130\tvalidation_1-mae:0.08069\n",
      "[51]\tvalidation_0-mae:0.08028\tvalidation_1-mae:0.07966\n",
      "[52]\tvalidation_0-mae:0.07933\tvalidation_1-mae:0.07873\n",
      "[53]\tvalidation_0-mae:0.07846\tvalidation_1-mae:0.07786\n",
      "[54]\tvalidation_0-mae:0.07765\tvalidation_1-mae:0.07706\n",
      "[55]\tvalidation_0-mae:0.07690\tvalidation_1-mae:0.07631\n",
      "[56]\tvalidation_0-mae:0.07622\tvalidation_1-mae:0.07564\n",
      "[57]\tvalidation_0-mae:0.07559\tvalidation_1-mae:0.07502\n",
      "[58]\tvalidation_0-mae:0.07501\tvalidation_1-mae:0.07445\n",
      "[59]\tvalidation_0-mae:0.07447\tvalidation_1-mae:0.07392\n",
      "[60]\tvalidation_0-mae:0.07397\tvalidation_1-mae:0.07343\n",
      "[61]\tvalidation_0-mae:0.07351\tvalidation_1-mae:0.07298\n",
      "[62]\tvalidation_0-mae:0.07309\tvalidation_1-mae:0.07257\n",
      "[63]\tvalidation_0-mae:0.07271\tvalidation_1-mae:0.07220\n",
      "[64]\tvalidation_0-mae:0.07235\tvalidation_1-mae:0.07185\n",
      "[65]\tvalidation_0-mae:0.07202\tvalidation_1-mae:0.07153\n",
      "[66]\tvalidation_0-mae:0.07172\tvalidation_1-mae:0.07124\n",
      "[67]\tvalidation_0-mae:0.07144\tvalidation_1-mae:0.07097\n",
      "[68]\tvalidation_0-mae:0.07119\tvalidation_1-mae:0.07072\n",
      "[69]\tvalidation_0-mae:0.07095\tvalidation_1-mae:0.07050\n",
      "[70]\tvalidation_0-mae:0.07074\tvalidation_1-mae:0.07029\n",
      "[71]\tvalidation_0-mae:0.07054\tvalidation_1-mae:0.07010\n",
      "[72]\tvalidation_0-mae:0.07036\tvalidation_1-mae:0.06992\n",
      "[73]\tvalidation_0-mae:0.07019\tvalidation_1-mae:0.06976\n",
      "[74]\tvalidation_0-mae:0.07004\tvalidation_1-mae:0.06961\n",
      "[75]\tvalidation_0-mae:0.06989\tvalidation_1-mae:0.06947\n",
      "[76]\tvalidation_0-mae:0.06976\tvalidation_1-mae:0.06934\n",
      "[77]\tvalidation_0-mae:0.06964\tvalidation_1-mae:0.06922\n",
      "[78]\tvalidation_0-mae:0.06953\tvalidation_1-mae:0.06912\n",
      "[79]\tvalidation_0-mae:0.06942\tvalidation_1-mae:0.06902\n",
      "[80]\tvalidation_0-mae:0.06933\tvalidation_1-mae:0.06892\n",
      "[81]\tvalidation_0-mae:0.06924\tvalidation_1-mae:0.06884\n",
      "[82]\tvalidation_0-mae:0.06916\tvalidation_1-mae:0.06876\n",
      "[83]\tvalidation_0-mae:0.06908\tvalidation_1-mae:0.06869\n",
      "[84]\tvalidation_0-mae:0.06901\tvalidation_1-mae:0.06862\n",
      "[85]\tvalidation_0-mae:0.06894\tvalidation_1-mae:0.06856\n",
      "[86]\tvalidation_0-mae:0.06888\tvalidation_1-mae:0.06850\n",
      "[87]\tvalidation_0-mae:0.06883\tvalidation_1-mae:0.06845\n",
      "[88]\tvalidation_0-mae:0.06877\tvalidation_1-mae:0.06840\n",
      "[89]\tvalidation_0-mae:0.06873\tvalidation_1-mae:0.06836\n",
      "[90]\tvalidation_0-mae:0.06868\tvalidation_1-mae:0.06832\n",
      "[91]\tvalidation_0-mae:0.06864\tvalidation_1-mae:0.06828\n",
      "[92]\tvalidation_0-mae:0.06860\tvalidation_1-mae:0.06824\n",
      "[93]\tvalidation_0-mae:0.06857\tvalidation_1-mae:0.06821\n",
      "[94]\tvalidation_0-mae:0.06852\tvalidation_1-mae:0.06817\n",
      "[95]\tvalidation_0-mae:0.06849\tvalidation_1-mae:0.06814\n",
      "[96]\tvalidation_0-mae:0.06846\tvalidation_1-mae:0.06811\n",
      "[97]\tvalidation_0-mae:0.06843\tvalidation_1-mae:0.06809\n",
      "[98]\tvalidation_0-mae:0.06841\tvalidation_1-mae:0.06807\n",
      "[99]\tvalidation_0-mae:0.06839\tvalidation_1-mae:0.06805\n",
      "[100]\tvalidation_0-mae:0.06837\tvalidation_1-mae:0.06802\n",
      "[101]\tvalidation_0-mae:0.06835\tvalidation_1-mae:0.06801\n",
      "[102]\tvalidation_0-mae:0.06833\tvalidation_1-mae:0.06799\n",
      "[103]\tvalidation_0-mae:0.06831\tvalidation_1-mae:0.06797\n",
      "[104]\tvalidation_0-mae:0.06829\tvalidation_1-mae:0.06796\n",
      "[105]\tvalidation_0-mae:0.06827\tvalidation_1-mae:0.06794\n",
      "[106]\tvalidation_0-mae:0.06826\tvalidation_1-mae:0.06793\n",
      "[107]\tvalidation_0-mae:0.06825\tvalidation_1-mae:0.06792\n",
      "[108]\tvalidation_0-mae:0.06823\tvalidation_1-mae:0.06791\n",
      "[109]\tvalidation_0-mae:0.06822\tvalidation_1-mae:0.06789\n",
      "[110]\tvalidation_0-mae:0.06821\tvalidation_1-mae:0.06789\n",
      "[111]\tvalidation_0-mae:0.06819\tvalidation_1-mae:0.06788\n",
      "[112]\tvalidation_0-mae:0.06818\tvalidation_1-mae:0.06787\n",
      "[113]\tvalidation_0-mae:0.06817\tvalidation_1-mae:0.06786\n",
      "[114]\tvalidation_0-mae:0.06816\tvalidation_1-mae:0.06785\n",
      "[115]\tvalidation_0-mae:0.06815\tvalidation_1-mae:0.06784\n",
      "[116]\tvalidation_0-mae:0.06814\tvalidation_1-mae:0.06784\n",
      "[117]\tvalidation_0-mae:0.06814\tvalidation_1-mae:0.06783\n",
      "[118]\tvalidation_0-mae:0.06813\tvalidation_1-mae:0.06782\n",
      "[119]\tvalidation_0-mae:0.06812\tvalidation_1-mae:0.06782\n",
      "[120]\tvalidation_0-mae:0.06811\tvalidation_1-mae:0.06781\n",
      "[121]\tvalidation_0-mae:0.06810\tvalidation_1-mae:0.06781\n",
      "[122]\tvalidation_0-mae:0.06809\tvalidation_1-mae:0.06780\n",
      "[123]\tvalidation_0-mae:0.06809\tvalidation_1-mae:0.06779\n",
      "[124]\tvalidation_0-mae:0.06809\tvalidation_1-mae:0.06779\n",
      "[125]\tvalidation_0-mae:0.06808\tvalidation_1-mae:0.06779\n",
      "[126]\tvalidation_0-mae:0.06807\tvalidation_1-mae:0.06778\n",
      "[127]\tvalidation_0-mae:0.06807\tvalidation_1-mae:0.06778\n",
      "[128]\tvalidation_0-mae:0.06807\tvalidation_1-mae:0.06778\n",
      "[129]\tvalidation_0-mae:0.06807\tvalidation_1-mae:0.06778\n",
      "[130]\tvalidation_0-mae:0.06806\tvalidation_1-mae:0.06777\n",
      "[131]\tvalidation_0-mae:0.06806\tvalidation_1-mae:0.06777\n",
      "[132]\tvalidation_0-mae:0.06805\tvalidation_1-mae:0.06776\n",
      "[133]\tvalidation_0-mae:0.06804\tvalidation_1-mae:0.06776\n",
      "[134]\tvalidation_0-mae:0.06804\tvalidation_1-mae:0.06775\n",
      "[135]\tvalidation_0-mae:0.06803\tvalidation_1-mae:0.06775\n",
      "[136]\tvalidation_0-mae:0.06803\tvalidation_1-mae:0.06775\n",
      "[137]\tvalidation_0-mae:0.06803\tvalidation_1-mae:0.06774\n",
      "[138]\tvalidation_0-mae:0.06803\tvalidation_1-mae:0.06774\n",
      "[139]\tvalidation_0-mae:0.06803\tvalidation_1-mae:0.06774\n",
      "[140]\tvalidation_0-mae:0.06803\tvalidation_1-mae:0.06774\n",
      "[141]\tvalidation_0-mae:0.06802\tvalidation_1-mae:0.06773\n",
      "[142]\tvalidation_0-mae:0.06802\tvalidation_1-mae:0.06773\n",
      "[143]\tvalidation_0-mae:0.06802\tvalidation_1-mae:0.06773\n",
      "[144]\tvalidation_0-mae:0.06802\tvalidation_1-mae:0.06773\n",
      "[145]\tvalidation_0-mae:0.06801\tvalidation_1-mae:0.06773\n",
      "[146]\tvalidation_0-mae:0.06801\tvalidation_1-mae:0.06773\n",
      "[147]\tvalidation_0-mae:0.06800\tvalidation_1-mae:0.06772\n",
      "[148]\tvalidation_0-mae:0.06800\tvalidation_1-mae:0.06772\n"
     ]
    },
    {
     "name": "stdout",
     "output_type": "stream",
     "text": [
      "[149]\tvalidation_0-mae:0.06800\tvalidation_1-mae:0.06772\n",
      "[150]\tvalidation_0-mae:0.06800\tvalidation_1-mae:0.06772\n",
      "[151]\tvalidation_0-mae:0.06799\tvalidation_1-mae:0.06772\n",
      "[152]\tvalidation_0-mae:0.06799\tvalidation_1-mae:0.06772\n",
      "[153]\tvalidation_0-mae:0.06799\tvalidation_1-mae:0.06772\n",
      "[154]\tvalidation_0-mae:0.06799\tvalidation_1-mae:0.06772\n",
      "[155]\tvalidation_0-mae:0.06798\tvalidation_1-mae:0.06772\n",
      "[156]\tvalidation_0-mae:0.06799\tvalidation_1-mae:0.06772\n",
      "[157]\tvalidation_0-mae:0.06798\tvalidation_1-mae:0.06772\n",
      "[158]\tvalidation_0-mae:0.06798\tvalidation_1-mae:0.06772\n",
      "[159]\tvalidation_0-mae:0.06798\tvalidation_1-mae:0.06772\n",
      "[160]\tvalidation_0-mae:0.06798\tvalidation_1-mae:0.06772\n",
      "[161]\tvalidation_0-mae:0.06798\tvalidation_1-mae:0.06772\n",
      "[162]\tvalidation_0-mae:0.06798\tvalidation_1-mae:0.06772\n",
      "[163]\tvalidation_0-mae:0.06797\tvalidation_1-mae:0.06772\n",
      "[164]\tvalidation_0-mae:0.06797\tvalidation_1-mae:0.06772\n",
      "[165]\tvalidation_0-mae:0.06797\tvalidation_1-mae:0.06772\n",
      "[166]\tvalidation_0-mae:0.06797\tvalidation_1-mae:0.06772\n",
      "[167]\tvalidation_0-mae:0.06797\tvalidation_1-mae:0.06772\n",
      "[168]\tvalidation_0-mae:0.06797\tvalidation_1-mae:0.06772\n",
      "[169]\tvalidation_0-mae:0.06797\tvalidation_1-mae:0.06772\n",
      "[170]\tvalidation_0-mae:0.06797\tvalidation_1-mae:0.06772\n",
      "[171]\tvalidation_0-mae:0.06797\tvalidation_1-mae:0.06773\n",
      "[172]\tvalidation_0-mae:0.06797\tvalidation_1-mae:0.06773\n",
      "[173]\tvalidation_0-mae:0.06796\tvalidation_1-mae:0.06773\n",
      "[174]\tvalidation_0-mae:0.06796\tvalidation_1-mae:0.06773\n",
      "[175]\tvalidation_0-mae:0.06796\tvalidation_1-mae:0.06773\n",
      "[176]\tvalidation_0-mae:0.06796\tvalidation_1-mae:0.06773\n",
      "[177]\tvalidation_0-mae:0.06796\tvalidation_1-mae:0.06773\n",
      "[178]\tvalidation_0-mae:0.06796\tvalidation_1-mae:0.06773\n",
      "[179]\tvalidation_0-mae:0.06796\tvalidation_1-mae:0.06773\n",
      "[180]\tvalidation_0-mae:0.06796\tvalidation_1-mae:0.06774\n",
      "[181]\tvalidation_0-mae:0.06796\tvalidation_1-mae:0.06773\n",
      "[182]\tvalidation_0-mae:0.06796\tvalidation_1-mae:0.06774\n",
      "[183]\tvalidation_0-mae:0.06796\tvalidation_1-mae:0.06774\n",
      "[184]\tvalidation_0-mae:0.06796\tvalidation_1-mae:0.06774\n",
      "[185]\tvalidation_0-mae:0.06796\tvalidation_1-mae:0.06774\n",
      "[186]\tvalidation_0-mae:0.06796\tvalidation_1-mae:0.06774\n",
      "[187]\tvalidation_0-mae:0.06796\tvalidation_1-mae:0.06774\n",
      "[188]\tvalidation_0-mae:0.06795\tvalidation_1-mae:0.06774\n",
      "[189]\tvalidation_0-mae:0.06796\tvalidation_1-mae:0.06774\n",
      "[190]\tvalidation_0-mae:0.06795\tvalidation_1-mae:0.06774\n",
      "[191]\tvalidation_0-mae:0.06795\tvalidation_1-mae:0.06774\n",
      "[192]\tvalidation_0-mae:0.06795\tvalidation_1-mae:0.06774\n",
      "[193]\tvalidation_0-mae:0.06795\tvalidation_1-mae:0.06774\n",
      "[194]\tvalidation_0-mae:0.06795\tvalidation_1-mae:0.06774\n",
      "[195]\tvalidation_0-mae:0.06794\tvalidation_1-mae:0.06774\n",
      "[196]\tvalidation_0-mae:0.06795\tvalidation_1-mae:0.06775\n",
      "[197]\tvalidation_0-mae:0.06794\tvalidation_1-mae:0.06775\n",
      "[198]\tvalidation_0-mae:0.06794\tvalidation_1-mae:0.06775\n",
      "[199]\tvalidation_0-mae:0.06794\tvalidation_1-mae:0.06775\n"
     ]
    }
   ],
   "source": [
    "#Validate Model on the Test set\n",
    "eval_set = [(X_train, y_train), (X_test, y_test)]\n",
    "\n",
    "xg_reg = xgb.XGBRegressor(booster='gbtree',\n",
    "                          objective ='reg:squarederror',\n",
    "                          max_depth = 2,\n",
    "                          n_estimators = 200,\n",
    "                          learning_rate = 0.05,\n",
    "                          seed = 1)\n",
    "\n",
    "\n",
    "xg_reg.fit(X_train,y_train, eval_metric=\"mae\", eval_set = eval_set, verbose = True)\n",
    "\n",
    "y_pred = xg_reg.predict(X_test)"
   ]
  }
 ],
 "metadata": {
  "kernelspec": {
   "display_name": "Python 3",
   "language": "python",
   "name": "python3"
  },
  "language_info": {
   "codemirror_mode": {
    "name": "ipython",
    "version": 3
   },
   "file_extension": ".py",
   "mimetype": "text/x-python",
   "name": "python",
   "nbconvert_exporter": "python",
   "pygments_lexer": "ipython3",
   "version": "3.7.6"
  }
 },
 "nbformat": 4,
 "nbformat_minor": 4
}
